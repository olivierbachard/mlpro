{
 "cells": [
  {
   "cell_type": "markdown",
   "metadata": {},
   "source": [
    "# Sujet de lʼexamen : Binary Search\n",
    "\n",
    "Contexte : La recherche dichotomique (binary search) est une méthode efficace pour trouver la position dʼun élément dans une liste triée. Votre objectif est dʼimplémenter cette méthode, de la tester, et de lʼétendre avec quelques variantes.\n",
    "\n",
    "### Implémentation de la Recherche Dichotomique\n",
    "1. Écrire une fonction binary_search(sorted_list, target) qui :\n",
    "- Prend en entrée une liste triée sorted_list (de nombres ou de chaînes de caractères, au choix, mais cohérente) et une valeur target à rechercher.\n",
    "- Retourne l’indice où la valeur target se trouve, si elle est présente dans la liste, avec la méthode de recherche dichotomique.\n",
    "- Retourne -1 si l’élément n’est pas trouvé.\n",
    "\n",
    "Vous veillerez à ce que votre fonction soit itérative (pas de récursion).\n",
    "\n",
    "#### Détail de l’algorithme de recherche dichotomique\n",
    "- Initialiser deux variables, low et high, qui représentent les indices de début et de fin de la liste à explorer. Au départ, low est à 0 et high est l'indice du dernier élément.\n",
    "- Répéter les étapes suivantes tant que low <= high :\n",
    "- Calculer l’indice qui se trouve au milieu de la liste, arrondi à l’entier inférieur.\n",
    "- Si l'élément à cet indice est égal à la valeur cherchée, retourner cet élément.\n",
    "- Sinon, si l'élément recherché est plus grand que l'élément au milieu, mettre à jour low pour être mid + 1. et donc chercher dans la moitié supérieure.\n",
    "- Sinon, mettre à jour high = mid - 1 pour chercher dans la moitié inférieure.\n",
    "- Si on sort de la boucle sans avoir trouvé la valeur, retourner -1.\n",
    "\n",
    "Vidéo en plus : https://www.youtube.com/watch?v=0vOS48RiOag\n",
    "\n",
    "2. Tester votre fonction sur au moins trois cas différents :\n",
    "- Une recherche où l’élément est présent au milieu de la liste.\n",
    "- Une recherche où l’élément n’est pas présent.\n",
    "- Une recherche où l’élément est présent aux extrémités (début ou fin) de la liste.\n",
    "Afficher les résultats pour vérifier le bon comportement de la fonction.\n",
    "\n",
    "#### Gestion de Cas Spéciaux\n",
    "1. Que se passe-t-il si la liste est vide ?\n",
    "  - Modifier (ou vérifier) le comportement de binary_search pour qu’elle retourne -1 quand sorted_list est vide.\n",
    "2. Tester votre fonction sur une liste vide et une liste à un seul élément, pour s’assurer du bon fonctionnement dans ces cas particuliers.\n",
    "\n",
    "**Variation – Première occurrence**\n",
    "\n",
    "Écrire une nouvelle fonction binary_search_first_occurrence(sorted_list, target) qui, dans une liste triée pouvant contenir des doublons, retourne l’indice de la première occurrence de target. Si l’élément n’est pas présent, retourner -1.\n",
    "Tester cette fonction sur un exemple :\n",
    "- sorted_list = [1,2,2,2,3,4] et target = 2 doit retourner l’indice de la première occurrence de 2, donc 1.\n",
    "\n",
    "\n"
   ]
  },
  {
   "cell_type": "code",
   "execution_count": null,
   "metadata": {},
   "outputs": [
    {
     "name": "stdout",
     "output_type": "stream",
     "text": [
      "[0, 1, 2, 2, 8, 11, 12, 13, 13, 13, 13, 18, 21, 24, 26, 27, 29, 32, 32, 33, 33, 35, 36, 37, 39, 39, 39, 43, 47, 49, 51, 54, 55, 58, 60, 61, 61, 64, 65, 66, 69, 72, 77, 77, 80, 83, 88, 93, 95, 99]\n",
      "m = 24\n",
      "m = 12\n",
      "m = 18\n",
      "18\n",
      "32\n"
     ]
    }
   ],
   "source": [
    "import random\n",
    "\n",
    "def binary_search(sorted_list, target):\n",
    "   output = -1\n",
    "\n",
    "   if(len(sorted_list) == 0):\n",
    "      return output\n",
    "   \n",
    "   low = 0\n",
    "   high = max(len(sorted_list) - 1, 1)\n",
    "\n",
    "   while(low <= high):\n",
    "      m = round((low + high) / 2)\n",
    "      print(f\"m = {m}\")\n",
    "      if(sorted_list[m] == target):\n",
    "         output = m\n",
    "         break\n",
    "      elif(sorted_list[m] > target):\n",
    "         high = m - 1 \n",
    "      else:\n",
    "         low = m + 1\n",
    "\n",
    "   return output\n",
    "\n",
    "\n",
    "list = sorted(random.randint(0, 100) for _ in range(50))\n",
    "print(list)\n",
    "result = binary_search(list, 32)\n",
    "print(result)\n",
    "print(list[result])"
   ]
  },
  {
   "cell_type": "code",
   "execution_count": null,
   "metadata": {},
   "outputs": [
    {
     "name": "stdout",
     "output_type": "stream",
     "text": [
      "low=0\n",
      "high=5\n",
      "round 1\n",
      "m = 2\n",
      "low=0\n",
      "high=1\n",
      "round 1\n",
      "m = 0\n",
      "low=1\n",
      "high=1\n",
      "round 1\n",
      "m = 1\n",
      "low=1\n",
      "high=0\n",
      "1\n",
      "2\n"
     ]
    }
   ],
   "source": [
    "def binary_search_first_occurence(sorted_list, target):\n",
    "   output = -1\n",
    "\n",
    "   if(len(sorted_list) == 0):\n",
    "      return output\n",
    "   \n",
    "   low = 0\n",
    "   high = max(len(sorted_list) - 1, 1)\n",
    "\n",
    "   while(low <= high):\n",
    "      m = round((low + high) / 2)\n",
    "      if(sorted_list[m] == target):\n",
    "         output = m\n",
    "         # decrement high until low <= high so we ensure to find the first occurence of the target\n",
    "         high = m - 1\n",
    "      elif(sorted_list[m] > target):\n",
    "         high = m - 1 \n",
    "      else:\n",
    "         low = m + 1\n",
    "\n",
    "   return output\n",
    "\n",
    "list = [1,2,2,2,3,4]\n",
    "\n",
    "result = binary_search_first_occurence(list, 2)\n",
    "print(result)\n",
    "print(list[result])"
   ]
  }
 ],
 "metadata": {
  "kernelspec": {
   "display_name": "Python 3",
   "language": "python",
   "name": "python3"
  },
  "language_info": {
   "codemirror_mode": {
    "name": "ipython",
    "version": 3
   },
   "file_extension": ".py",
   "mimetype": "text/x-python",
   "name": "python",
   "nbconvert_exporter": "python",
   "pygments_lexer": "ipython3",
   "version": "3.13.2"
  }
 },
 "nbformat": 4,
 "nbformat_minor": 2
}
