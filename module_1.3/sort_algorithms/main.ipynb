{
 "cells": [
  {
   "cell_type": "code",
   "execution_count": 54,
   "metadata": {},
   "outputs": [],
   "source": [
    "import random"
   ]
  },
  {
   "cell_type": "code",
   "execution_count": 161,
   "metadata": {},
   "outputs": [
    {
     "name": "stdout",
     "output_type": "stream",
     "text": [
      "[30, 11, 9, 38, 83, 17, 57, 95]\n",
      "[9, 11, 17, 30, 38, 57, 83, 95]\n"
     ]
    }
   ],
   "source": [
    "\n",
    "# 1. On regarde la liste du début à la fin.\n",
    "# 2. Pour chaque paire d’éléments (positions i et i+1), on compare : \n",
    "#  - Si l’élément à gauche est plus grand, on échange. \n",
    "#  - Sinon, on ne fait rien.\n",
    "# 3. On recommence plusieurs passages tant qu’on a fait au moins un échange.\n",
    "def bubble_sort(unsorted_list):\n",
    "\n",
    "   sorted = False\n",
    "   while not sorted:\n",
    "      exchange = False\n",
    "      for j in range(len(unsorted_list)-1):\n",
    "         \n",
    "         if(unsorted_list[j] > unsorted_list[j+1]):\n",
    "            unsorted_list[j], unsorted_list[j+1] = unsorted_list[j+1], unsorted_list[j]\n",
    "            exchange = True\n",
    "\n",
    "      sorted = not exchange\n",
    "\n",
    "   return unsorted_list\n",
    "\n",
    "list = [random.randint(0, 100) for _ in range(8)]\n",
    "print(list)\n",
    "\n",
    "results = bubble_sort(list)\n",
    "print(results)"
   ]
  },
  {
   "cell_type": "code",
   "execution_count": 124,
   "metadata": {},
   "outputs": [
    {
     "name": "stdout",
     "output_type": "stream",
     "text": [
      "[14, 97, 96, 58, 62, 69, 13, 37, 85, 36]\n",
      "[13, 14, 36, 37, 58, 62, 69, 85, 96, 97]\n"
     ]
    }
   ],
   "source": [
    "\n",
    "\n",
    "# 1. Choisir un pivot (par exemple, le dernier élément de la liste).\n",
    "# 2. Créer deux sous-listes :\n",
    "#     petits pour ceux qui sont <= pivot\n",
    "#     grands pour ceux qui sont > pivot\n",
    "# 3. Appliquer récursivement quick sort sur petits et grands.\n",
    "# 4. Combiner : (tri(petits)) + [pivot] + (tri(grands)).\n",
    "def quick_sort(unsorted_list):\n",
    "   \n",
    "   if(len(unsorted_list) < 2):\n",
    "      return unsorted_list;\n",
    "\n",
    "   pivot = unsorted_list[0]\n",
    "   left = quick_sort([i for i in unsorted_list if i < pivot])\n",
    "   right = quick_sort([i for i in unsorted_list if i > pivot])\n",
    "   \n",
    "   return left + [pivot] + right;\n",
    "   \n",
    "\n",
    "list = [random.randint(0, 100) for _ in range(10)]\n",
    "print(list)\n",
    "\n",
    "results = quick_sort(list)\n",
    "print(results)"
   ]
  },
  {
   "cell_type": "code",
   "execution_count": 123,
   "metadata": {},
   "outputs": [
    {
     "name": "stdout",
     "output_type": "stream",
     "text": [
      "[96, 25, 67, 86, 99, 83, 49, 2, 5, 56]\n",
      "[2, 5, 25, 49, 56, 67, 83, 86, 96, 99]\n"
     ]
    }
   ],
   "source": [
    "# 1. On commence au deuxième élément de la liste (car le premier est déjà « trié » tout seul). \n",
    "# 2. On prend la valeur courante (disons val) et on la compare aux éléments situés avant elle. \n",
    "# 3. Tant qu’un élément précédent est plus grand que val, on le décale d’une position vers la droite. \n",
    "# 4. Quand on a trouvé l’emplacement correct, on place val.\n",
    "def insertion_sort(unsorted_list):\n",
    "\n",
    "   for i in range(1, len(unsorted_list)):\n",
    "      element = unsorted_list[i]\n",
    "      \n",
    "      j = i - 1\n",
    "      while j >= 0:\n",
    "         if(unsorted_list[j] > element):\n",
    "            unsorted_list[j+1] = unsorted_list[j]\n",
    "            j = j - 1\n",
    "         else:\n",
    "            break\n",
    "\n",
    "      unsorted_list[j+1] = element\n",
    "\n",
    "   return unsorted_list\n",
    "\n",
    "list = [random.randint(0, 100) for _ in range(10)]\n",
    "print(list)\n",
    "\n",
    "results = insertion_sort(list)\n",
    "print(results)"
   ]
  },
  {
   "cell_type": "code",
   "execution_count": 120,
   "metadata": {},
   "outputs": [
    {
     "name": "stdout",
     "output_type": "stream",
     "text": [
      "[34, 6, 82, 94, 1, 93, 86, 5, 90, 36]\n",
      "[1, 5, 6, 34, 36, 82, 86, 90, 93, 94]\n"
     ]
    }
   ],
   "source": [
    "# Fusionne 2 listes déjà triée en une seule liste triée.\n",
    "def fusionner(left, right):\n",
    "   output = []\n",
    "   i, j = 0, 0\n",
    "   while i < len(left) and j < len(right):\n",
    "      if(left[i] <= right[j]):\n",
    "         output.append(left[i])\n",
    "         i += 1\n",
    "      else: \n",
    "         output.append(right[j])\n",
    "         j += 1\n",
    "\n",
    "   output = output + left[i:] + right[j:]\n",
    "   return output\n",
    "\n",
    "# 1. Diviser la liste en deux moitiés.\n",
    "# 2. Trier chacune des moitiés de façon récursive.\n",
    "# 3. Fusionner (merge) les deux moitiés triées pour former une liste globale triée.\n",
    "def merge_sort(unsorted_list):\n",
    "\n",
    "   if(len(unsorted_list) <= 1):\n",
    "      return unsorted_list\n",
    "   \n",
    "   middle = len(unsorted_list) // 2\n",
    "   left = unsorted_list[:middle]\n",
    "   right = unsorted_list[middle:]\n",
    "\n",
    "   return fusionner(merge_sort(left), merge_sort(right))\n",
    "\n",
    "list = [random.randint(0, 100) for _ in range(10)]\n",
    "print(list)\n",
    "\n",
    "results = merge_sort(list)\n",
    "print(results)"
   ]
  }
 ],
 "metadata": {
  "kernelspec": {
   "display_name": "Python 3",
   "language": "python",
   "name": "python3"
  },
  "language_info": {
   "codemirror_mode": {
    "name": "ipython",
    "version": 3
   },
   "file_extension": ".py",
   "mimetype": "text/x-python",
   "name": "python",
   "nbconvert_exporter": "python",
   "pygments_lexer": "ipython3",
   "version": "3.13.2"
  }
 },
 "nbformat": 4,
 "nbformat_minor": 2
}
