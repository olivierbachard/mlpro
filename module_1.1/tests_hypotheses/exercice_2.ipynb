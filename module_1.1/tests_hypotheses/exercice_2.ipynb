{
 "cells": [
  {
   "cell_type": "markdown",
   "metadata": {},
   "source": [
    "# Exercice 2: MPG"
   ]
  },
  {
   "cell_type": "markdown",
   "metadata": {},
   "source": [
    "1. Analysez l'évolution de la consommation des voitures (mpg) par rapport à la puissance du moteur (horsepower).\n",
    "\n",
    "- Refaites le graphique correspondant\n",
    "\n",
    "- Quelle est la corrélation de Pearson entre ces deux variables ?\n",
    "\n",
    "- Quelle serait la probabilité d'obtenir une telle corrélation ou plus extrême, si en réalité les deux variables étaient totalement décorrélées ?\n",
    "\n",
    "\n",
    "\n",
    "2. Peut-on affirmer avec un risque d'erreur de 2% que les voitures du Japon, d'Europe, et des États-Unis ont vu leur autonomie moyenne (mpg) augmenter entre la premiere moitiée des années 70s, et la seconde moitiée des années 70s ?\n",
    "\n",
    "\n",
    "\n",
    "2. Un constructeur automobile américain affirme que les voitures américaines à 4 cylindres ont en moyenne la même accélération que les voitures américaines à 6 cylindres. Testez cette affirmation et concluez avec un niveau de confiance de 98 % (alpha = 0,02).\n",
    "\n",
    "\n",
    "\n",
    "4. Un collectionneur de voitures vous affirme que parmi les voitures Ford des années 1970-1982, il y avait :\n",
    "\n",
    "- 25 % de 4 cylindres\n",
    "\n",
    "- 25 % de 6 cylindres\n",
    "\n",
    "- 50 % de 8 cylindres\n",
    "\n",
    "Testez son affirmation et concluez avec un niveau de confiance de 95 %.\n",
    "\n",
    "\n",
    "\n",
    "5. Les voitures à 4 cylindres ont en moyenne la même consommation d'essence au Japon, en Europe et aux États-Unis, dans les années 1970-1982. Testez cette affirmation et concluez avec un niveau de confiance de 98 % (alpha = 0,02).\n",
    "\n",
    "\n",
    "\n",
    "6. Les voitures européennes et japonaises ont en moyenne le même nombre de chevaux. Testez cette affirmation et concluez avec un niveau de confiance de 98 % (alpha = 0,02).\n",
    "\n",
    "\n",
    "\n",
    "7. Un spécialiste vous dit que les constructeurs Ford et Dodge produisaient dans les années 70-82 des voitures avec un nombre de cylindres équivalent. Testez cette affirmation et concluez avec un niveau de confiance de 98 % (alpha = 0,02).\n",
    "\n",
    "\n",
    "\n",
    "Pour cette question aidez-vous du code suivant:\n",
    "\n",
    "\n",
    "\n",
    "`filtered_df = df[df['name'].str.contains('ford|dodge', case=False, na=False)]`\n",
    "\n",
    "`filtered_df['brand'] = filtered_df['name'].apply(lambda x: 'ford' if 'ford' in x else 'dodge')`"
   ]
  },
  {
   "cell_type": "code",
   "execution_count": 1,
   "metadata": {},
   "outputs": [
    {
     "data": {
      "text/html": [
       "<div>\n",
       "<style scoped>\n",
       "    .dataframe tbody tr th:only-of-type {\n",
       "        vertical-align: middle;\n",
       "    }\n",
       "\n",
       "    .dataframe tbody tr th {\n",
       "        vertical-align: top;\n",
       "    }\n",
       "\n",
       "    .dataframe thead th {\n",
       "        text-align: right;\n",
       "    }\n",
       "</style>\n",
       "<table border=\"1\" class=\"dataframe\">\n",
       "  <thead>\n",
       "    <tr style=\"text-align: right;\">\n",
       "      <th></th>\n",
       "      <th>mpg</th>\n",
       "      <th>cylinders</th>\n",
       "      <th>displacement</th>\n",
       "      <th>horsepower</th>\n",
       "      <th>weight</th>\n",
       "      <th>acceleration</th>\n",
       "      <th>model_year</th>\n",
       "      <th>origin</th>\n",
       "      <th>name</th>\n",
       "    </tr>\n",
       "  </thead>\n",
       "  <tbody>\n",
       "    <tr>\n",
       "      <th>0</th>\n",
       "      <td>18.0</td>\n",
       "      <td>8</td>\n",
       "      <td>307.0</td>\n",
       "      <td>130.0</td>\n",
       "      <td>3504</td>\n",
       "      <td>12.0</td>\n",
       "      <td>70</td>\n",
       "      <td>usa</td>\n",
       "      <td>chevrolet chevelle malibu</td>\n",
       "    </tr>\n",
       "    <tr>\n",
       "      <th>1</th>\n",
       "      <td>15.0</td>\n",
       "      <td>8</td>\n",
       "      <td>350.0</td>\n",
       "      <td>165.0</td>\n",
       "      <td>3693</td>\n",
       "      <td>11.5</td>\n",
       "      <td>70</td>\n",
       "      <td>usa</td>\n",
       "      <td>buick skylark 320</td>\n",
       "    </tr>\n",
       "    <tr>\n",
       "      <th>2</th>\n",
       "      <td>18.0</td>\n",
       "      <td>8</td>\n",
       "      <td>318.0</td>\n",
       "      <td>150.0</td>\n",
       "      <td>3436</td>\n",
       "      <td>11.0</td>\n",
       "      <td>70</td>\n",
       "      <td>usa</td>\n",
       "      <td>plymouth satellite</td>\n",
       "    </tr>\n",
       "    <tr>\n",
       "      <th>3</th>\n",
       "      <td>16.0</td>\n",
       "      <td>8</td>\n",
       "      <td>304.0</td>\n",
       "      <td>150.0</td>\n",
       "      <td>3433</td>\n",
       "      <td>12.0</td>\n",
       "      <td>70</td>\n",
       "      <td>usa</td>\n",
       "      <td>amc rebel sst</td>\n",
       "    </tr>\n",
       "    <tr>\n",
       "      <th>4</th>\n",
       "      <td>17.0</td>\n",
       "      <td>8</td>\n",
       "      <td>302.0</td>\n",
       "      <td>140.0</td>\n",
       "      <td>3449</td>\n",
       "      <td>10.5</td>\n",
       "      <td>70</td>\n",
       "      <td>usa</td>\n",
       "      <td>ford torino</td>\n",
       "    </tr>\n",
       "  </tbody>\n",
       "</table>\n",
       "</div>"
      ],
      "text/plain": [
       "    mpg  cylinders  displacement  horsepower  weight  acceleration  \\\n",
       "0  18.0          8         307.0       130.0    3504          12.0   \n",
       "1  15.0          8         350.0       165.0    3693          11.5   \n",
       "2  18.0          8         318.0       150.0    3436          11.0   \n",
       "3  16.0          8         304.0       150.0    3433          12.0   \n",
       "4  17.0          8         302.0       140.0    3449          10.5   \n",
       "\n",
       "   model_year origin                       name  \n",
       "0          70    usa  chevrolet chevelle malibu  \n",
       "1          70    usa          buick skylark 320  \n",
       "2          70    usa         plymouth satellite  \n",
       "3          70    usa              amc rebel sst  \n",
       "4          70    usa                ford torino  "
      ]
     },
     "execution_count": 1,
     "metadata": {},
     "output_type": "execute_result"
    }
   ],
   "source": [
    "import seaborn as sns\n",
    "import pandas as pd\n",
    "import matplotlib\n",
    "import matplotlib.pyplot as plt\n",
    "\n",
    "df = sns.load_dataset(\"mpg\")\n",
    "df.dropna(inplace=True)\n",
    "df.head()"
   ]
  },
  {
   "cell_type": "markdown",
   "metadata": {},
   "source": [
    "### 1. Analysez l'évolution de la consommation des voitures (mpg) par rapport à la puissance du moteur (horsepower).\n",
    "\n",
    "- Refaites le graphique correspondant\n",
    "\n",
    "- Quelle est la corrélation de Pearson entre ces deux variables ?\n",
    "\n",
    "- Quelle serait la probabilité d'obtenir une telle corrélation ou plus extrême, si en réalité les deux variables étaient totalement décorrélées ?"
   ]
  },
  {
   "cell_type": "code",
   "execution_count": 3,
   "metadata": {},
   "outputs": [
    {
     "data": {
      "image/png": "[encoded data removed]",
      "text/plain": [
       "<Figure size 640x480 with 1 Axes>"
      ]
     },
     "metadata": {},
     "output_type": "display_data"
    }
   ],
   "source": [
    "sns.scatterplot(data=df, x=\"mpg\", y=\"horsepower\").set_title(\"Autonomie fonction de la puissance\")\n",
    "plt.show()"
   ]
  },
  {
   "cell_type": "code",
   "execution_count": 2,
   "metadata": {},
   "outputs": [
    {
     "name": "stdout",
     "output_type": "stream",
     "text": [
      "La corrélation de pearson entre l'autonomie et la puissance des voitures est de -0.778426783897776\n",
      "\n",
      "La probabilité d'obtenir une corrélation au moins aussi elevée si en réalité les 2 variables n'étaient pas corrélées est de 0%\n",
      "Conclusion: Les variables semblent être corrélées\n"
     ]
    }
   ],
   "source": [
    "from scipy.stats import pearsonr\n",
    "pearsonCorel = pearsonr(df[\"mpg\"], df[\"horsepower\"]).correlation\n",
    "\n",
    "print(f\"La corrélation de pearson entre l'autonomie et la puissance des voitures est de {pearsonCorel}\")\n",
    "print()\n",
    "\n",
    "pvalue = pearsonr(df[\"mpg\"], df[\"horsepower\"]).pvalue\n",
    "print(f\"La probabilité d'obtenir une corrélation au moins aussi elevée si en réalité les 2 variables n'étaient pas corrélées est de {pvalue:.0%}\")\n",
    "print(f\"Conclusion: Les variables semblent être corrélées\")"
   ]
  },
  {
   "cell_type": "markdown",
   "metadata": {},
   "source": [
    "### 2. Peut-on affirmer avec un risque d'erreur de 2% que les voitures du Japon, d'Europe, et des États-Unis ont vu leur autonomie moyenne (mpg) augmenter entre la premiere moitiée des années 70s, et la seconde moitiée des années 70s ?"
   ]
  },
  {
   "cell_type": "code",
   "execution_count": 5,
   "metadata": {},
   "outputs": [
    {
     "name": "stdout",
     "output_type": "stream",
     "text": [
      "19.22\n",
      "24.470652173913045\n",
      "\n",
      "H0 : L'autonomie moyenne des voitures n'a pas augmentée entre la première et la seconde moitié des années 70s.\n",
      "\n",
      "2.4451466260288248e-11\n",
      "Nous pouvons rejeter H0\n"
     ]
    }
   ],
   "source": [
    "from scipy.stats import ttest_ind\n",
    "\n",
    "df_1 = df.query(\"model_year >= 70 and model_year < 75\")\n",
    "df_2 = df.query(\"model_year >= 75 and model_year <= 80\")\n",
    "print(df_1[\"mpg\"].mean())\n",
    "print(df_2[\"mpg\"].mean())\n",
    "\n",
    "print()\n",
    "print(\"H0 : L'autonomie moyenne des voitures n'a pas augmentée entre la première et la seconde moitié des années 70s.\")\n",
    "print()\n",
    "\n",
    "results = ttest_ind(df_1[\"mpg\"], df_2[\"mpg\"])\n",
    "alpha = 0.02\n",
    "print(results.pvalue)\n",
    "if(results.pvalue < alpha):\n",
    "\tprint(\"Nous pouvons rejeter H0\")\n",
    "else: \n",
    "\tprint(\"Les données ne nous permettent pas de rejeter H0\")\n"
   ]
  },
  {
   "cell_type": "markdown",
   "metadata": {},
   "source": [
    "### 3. Un constructeur automobile américain affirme que les voitures américaines à 4 cylindres ont en moyenne la même accélération que les voitures américaines à 6 cylindres. Testez cette affirmation et concluez avec un niveau de confiance de 98 % (alpha = 0,02)."
   ]
  },
  {
   "cell_type": "code",
   "execution_count": 23,
   "metadata": {},
   "outputs": [
    {
     "name": "stdout",
     "output_type": "stream",
     "text": [
      "           count       mean       std   min   25%   50%   75%   max\n",
      "cylinders                                                          \n",
      "4           69.0  16.465217  2.180989  11.6  14.9  16.2  17.7  22.2\n",
      "6           73.0  16.467123  1.908974  11.3  15.5  16.4  17.7  21.0\n",
      "8          103.0  12.955340  2.224759   8.0  11.5  13.0  14.0  22.2\n",
      "\n",
      "H0 : Les voitures américaines à 4 et 6 cylindres ont en moyenne la même accélération\n",
      "\n",
      "Nous n'avons pas suffisamment de preuves pour rejeter H0\n"
     ]
    }
   ],
   "source": [
    "from scipy.stats import ttest_ind\n",
    "\n",
    "df_america = df.query(\"origin == 'usa'\")\n",
    "print(df_america.groupby('cylinders')[\"acceleration\"].describe())\n",
    "print()\n",
    "\n",
    "df_6_cylinders = df_america.query(\"cylinders == 6\")[\"acceleration\"]\n",
    "df_4_cylinders = df_america.query(\"cylinders == 4\")[\"acceleration\"]\n",
    "\n",
    "print(\"H0 : Les voitures américaines à 4 et 6 cylindres ont en moyenne la même accélération\")\n",
    "print()\n",
    "\n",
    "p_value = ttest_ind(df_4_cylinders, df_6_cylinders).pvalue\n",
    "alpha = 0.02\n",
    "if p_value < alpha:\n",
    "\tprint(\"Nous avons suffisamment de preuves pour rejeter H0\")\n",
    "else:\n",
    "\tprint(\"Nous n'avons pas suffisamment de preuves pour rejeter H0\")\n"
   ]
  },
  {
   "cell_type": "markdown",
   "metadata": {},
   "source": [
    "### 4. Un collectionneur de voitures vous affirme que parmi les voitures Ford des années 1970-1982, il y avait :\n",
    "\n",
    "- 25 % de 4 cylindres\n",
    "\n",
    "- 25 % de 6 cylindres\n",
    "\n",
    "- 50 % de 8 cylindres\n",
    "\n",
    "Testez son affirmation et concluez avec un niveau de confiance de 95 %."
   ]
  },
  {
   "cell_type": "code",
   "execution_count": null,
   "metadata": {},
   "outputs": [
    {
     "data": {
      "image/png": "[encoded data removed]",
      "text/plain": [
       "<Figure size 640x480 with 1 Axes>"
      ]
     },
     "metadata": {},
     "output_type": "display_data"
    },
    {
     "name": "stdout",
     "output_type": "stream",
     "text": [
      "cylindrée moyenne : 6.5\n",
      "H0 : La cylindrée moyene des voitures Ford entre 1970-1982 était de 6.5\n",
      "pvalue : 0.1914052041475935\n",
      "Nous n'avons pas suffisamment de preuves pour rejeter H0\n"
     ]
    },
    {
     "data": {
      "text/plain": [
       "Power_divergenceResult(statistic=np.float64(2.0), pvalue=np.float64(0.36787944117144245))"
      ]
     },
     "execution_count": 8,
     "metadata": {},
     "output_type": "execute_result"
    }
   ],
   "source": [
    "import numpy as np\n",
    "from scipy.stats import ttest_1samp\n",
    "from scipy.stats import chisquare\n",
    "\n",
    "df_ford = df[df['name'].str.contains('ford', case=False, na=False)]\n",
    "df_ford[\"cylinders\"].value_counts(normalize=True).plot(kind=\"bar\")\n",
    "plt.show()\n",
    "\n",
    "cylinders_mean = (4 + 6 + 16) / 4\n",
    "print(f\"cylindrée moyenne : {cylinders_mean}\")\n",
    "\n",
    "alpha = 0.05\n",
    "print('H0 : La cylindrée moyene des voitures Ford entre 1970-1982 était de 6.5')\n",
    "\n",
    "pvalue = ttest_1samp(df_ford[\"cylinders\"], 6.5).pvalue\n",
    "print(f\"pvalue : {pvalue}\")\n",
    "if pvalue < alpha:\n",
    "\tprint(\"Nous avons suffisamment de preuves pour rejeter H0\")\n",
    "else:\n",
    "\tprint(\"Nous n'avons pas suffisamment de preuves pour rejeter H0\")\n",
    "\n",
    "# correction\n",
    "observed_frequencies = df_ford[\"cylinders\"].value_counts().sort_index()\n",
    "observed_frequencies\n",
    "\n",
    "expected_frequencies = np.array([0.25, 0.25, 0.5]) * observed_frequencies.sum()\n",
    "expected_frequencies\n",
    "\n",
    "chisquare(f_exp=expected_frequencies, f_obs=observed_frequencies)\n",
    "# H0 : 25% 4 cylindres, 25% 6 cylindres, 50% 8 cylindres\n",
    "# Pas suffisamment de preuves importante pour rejeter H0"
   ]
  },
  {
   "cell_type": "markdown",
   "metadata": {},
   "source": [
    "### 5. Les voitures à 4 cylindres ont en moyenne la même consommation d'essence au Japon, en Europe et aux États-Unis, dans les années 1970-1982. Testez cette affirmation et concluez avec un niveau de confiance de 98 % (alpha = 0,02)."
   ]
  },
  {
   "cell_type": "code",
   "execution_count": 9,
   "metadata": {},
   "outputs": [
    {
     "name": "stdout",
     "output_type": "stream",
     "text": [
      "origin\n",
      "europe    28.106557\n",
      "japan     31.595652\n",
      "usa       28.013043\n",
      "Name: mpg, dtype: float64\n",
      "origin\n",
      "europe    39.577623\n",
      "japan     29.547775\n",
      "usa       20.853798\n",
      "Name: mpg, dtype: float64\n",
      "H0 : Les voitures à 4 cylindres ont en moyenne la même consommation d'essence dans les années 70-82\n",
      "\n",
      "F_onewayResult(statistic=np.float64(9.538999089626692), pvalue=np.float64(0.00011134953247210174))\n",
      "Test de ANOVA\n",
      "Nous avons suffisamment de preuves pour rejeter H0\n"
     ]
    }
   ],
   "source": [
    "from scipy.stats import f_oneway\n",
    "\n",
    "df_4_cylinders = df.query(\"cylinders == 4\")\n",
    "print(df_4_cylinders.groupby(\"origin\")[\"mpg\"].mean())\n",
    "print(df_4_cylinders.groupby(\"origin\")[\"mpg\"].var())\n",
    "\n",
    "print(\"H0 : Les voitures à 4 cylindres ont en moyenne la même consommation d'essence dans les années 70-82\")\n",
    "print()\n",
    "\n",
    "alpha = 0.02\n",
    "results = f_oneway(*df_4_cylinders.groupby(\"origin\")[\"mpg\"].apply(list))\n",
    "print(results)\n",
    "\n",
    "print(\"Test de ANOVA\")\n",
    "if results.pvalue < alpha:\n",
    "\tprint(\"Nous avons suffisamment de preuves pour rejeter H0\")\n",
    "else:\n",
    "\tprint(\"Nous n'avons pas suffisamment de preuves pour rejeter H0\")"
   ]
  },
  {
   "cell_type": "markdown",
   "metadata": {},
   "source": [
    "### 6. Les voitures européennes et japonaises ont en moyenne le même nombre de chevaux. Testez cette affirmation et concluez avec un niveau de confiance de 98 % (alpha = 0,02)."
   ]
  },
  {
   "cell_type": "code",
   "execution_count": 10,
   "metadata": {},
   "outputs": [
    {
     "name": "stdout",
     "output_type": "stream",
     "text": [
      "        count       mean        std   min    25%   50%   75%    max\n",
      "origin                                                             \n",
      "europe   68.0  80.558824  20.157871  46.0  69.75  76.5  90.0  133.0\n",
      "japan    79.0  79.835443  17.819199  52.0  67.00  75.0  95.0  132.0\n",
      "H0 : Les voitures européennes et japonais ont en moyenne le même nombre de chevaux\n",
      "\n",
      "Nous ne pouvons pas rejeter H0\n"
     ]
    }
   ],
   "source": [
    "from scipy.stats import ttest_ind\n",
    "\n",
    "temp_df = df.query(\"origin == 'japan' or origin == 'europe'\")\n",
    "print(temp_df.groupby('origin')[\"horsepower\"].describe())\n",
    "\n",
    "print(\"H0 : Les voitures européennes et japonais ont en moyenne le même nombre de chevaux\")\n",
    "print()\n",
    "\n",
    "pvalue = ttest_ind(df.query(\"origin == 'japan'\")[\"horsepower\"], df.query(\"origin == 'europe'\")[\"horsepower\"]).pvalue\n",
    "alpha = 0.02\n",
    "\n",
    "if(pvalue < 0.02):\n",
    "\tprint(\"Nous pouvons affimer que les voitures européennes et japonaise n'ont en moyenne pas le même nbre de chevaux\")\n",
    "else:\n",
    "\tprint(\"Nous ne pouvons pas rejeter H0\")"
   ]
  },
  {
   "cell_type": "markdown",
   "metadata": {},
   "source": [
    "### 7. Un spécialiste vous dit que les constructeurs Ford et Dodge produisaient dans les années 70-82 des voitures avec un nombre de cylindres équivalent. Testez cette affirmation et concluez avec un niveau de confiance de 98 % (alpha = 0,02)."
   ]
  },
  {
   "cell_type": "code",
   "execution_count": 13,
   "metadata": {},
   "outputs": [
    {
     "name": "stdout",
     "output_type": "stream",
     "text": [
      "brand\n",
      "dodge    6.000000\n",
      "ford     6.166667\n",
      "Name: cylinders, dtype: float64\n",
      "H0 : Les voitures produites par Ford et Dodge avaient en moyenne le meme nbre de cylindres\n",
      "\n",
      "Nous n'avons pas suffisamment de preuves pour rejeter H0\n"
     ]
    },
    {
     "name": "stderr",
     "output_type": "stream",
     "text": [
      "C:\\Users\\olivi\\AppData\\Local\\Temp\\ipykernel_31616\\1015570423.py:5: SettingWithCopyWarning: \n",
      "A value is trying to be set on a copy of a slice from a DataFrame.\n",
      "Try using .loc[row_indexer,col_indexer] = value instead\n",
      "\n",
      "See the caveats in the documentation: https://pandas.pydata.org/pandas-docs/stable/user_guide/indexing.html#returning-a-view-versus-a-copy\n",
      "  filtered_df['brand'] = filtered_df['name'].apply(lambda x: 'ford' if 'ford' in x else 'dodge')\n"
     ]
    },
    {
     "data": {
      "text/plain": [
       "Chi2ContingencyResult(statistic=np.float64(1.4056122448979598), pvalue=np.float64(0.49519377793169383), dof=2, expected_freq=array([[10.31578947,  5.89473684, 11.78947368],\n",
       "       [17.68421053, 10.10526316, 20.21052632]]))"
      ]
     },
     "execution_count": 13,
     "metadata": {},
     "output_type": "execute_result"
    }
   ],
   "source": [
    "from scipy.stats import ttest_ind\n",
    "from scipy.stats import chi2_contingency\n",
    "\n",
    "filtered_df = df[df['name'].str.contains('ford|dodge', case=False, na=False)]\n",
    "filtered_df['brand'] = filtered_df['name'].apply(lambda x: 'ford' if 'ford' in x else 'dodge')\n",
    "# print(filtered_df)\n",
    "\n",
    "print(filtered_df.groupby(\"brand\")[\"cylinders\"].mean())\n",
    "print(\"H0 : Les voitures produites par Ford et Dodge avaient en moyenne le meme nbre de cylindres\")\n",
    "print()\n",
    "\n",
    "alpha = 0.02\n",
    "pvalue = ttest_ind(filtered_df.query(\"brand == 'ford'\")[\"cylinders\"], filtered_df.query(\"brand == 'dodge'\")[\"cylinders\"]).pvalue\n",
    "if(pvalue < alpha):\n",
    "\tprint(\"Nous pouvons affirmer que les voitures produites par Ford et Dodge n'avaient en moyenne pas le même nbre de cylindre\")\n",
    "else:\n",
    "\tprint(\"Nous n'avons pas suffisamment de preuves pour rejeter H0\")\n",
    "\n",
    "# correction\n",
    "pd.crosstab(filtered_df[\"brand\"], filtered_df[\"cylinders\"])\n",
    "chi2_contingency(pd.crosstab(filtered_df[\"brand\"], filtered_df[\"cylinders\"]))\n"
   ]
  }
 ],
 "metadata": {
  "kernelspec": {
   "display_name": "Python 3",
   "language": "python",
   "name": "python3"
  },
  "language_info": {
   "codemirror_mode": {
    "name": "ipython",
    "version": 3
   },
   "file_extension": ".py",
   "mimetype": "text/x-python",
   "name": "python",
   "nbconvert_exporter": "python",
   "pygments_lexer": "ipython3",
   "version": "3.13.0"
  }
 },
 "nbformat": 4,
 "nbformat_minor": 2
}
