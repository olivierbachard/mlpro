{
 "cells": [
  {
   "cell_type": "code",
   "execution_count": 12,
   "metadata": {},
   "outputs": [
    {
     "name": "stdout",
     "output_type": "stream",
     "text": [
      "8.120000000000001\n",
      "12.03\n",
      "according to manhattan distance, green point belongs to blue category\n",
      "20\n",
      "15\n",
      "according to manhattan distance, green point belongs to red category\n",
      "[0.875 0.7  ] [0.8 0.9] [0.815 0.78 ]\n"
     ]
    }
   ],
   "source": [
    "import numpy\n",
    "\n",
    "blue_point = numpy.array([1.75, 70])\n",
    "red_point = numpy.array([1.60, 90])\n",
    "green_point = numpy.array([1.63, 78])\n"
   ]
  },
  {
   "cell_type": "code",
   "execution_count": 13,
   "metadata": {},
   "outputs": [
    {
     "name": "stdout",
     "output_type": "stream",
     "text": [
      "8.120000000000001\n",
      "12.03\n",
      "according to manhattan distance, green point belongs to blue category\n",
      "20\n",
      "15\n",
      "according to manhattan distance, green point belongs to red category\n"
     ]
    }
   ],
   "source": [
    "#-------------\n",
    "# Using size in meters\n",
    "#-------------\n",
    "\n",
    "## manhattan distance\n",
    "man_dis_blue = abs(numpy.subtract(blue_point, green_point))\n",
    "man_dis_red = abs(numpy.subtract(red_point, green_point))\n",
    "print(man_dis_blue.sum())\n",
    "print(man_dis_red.sum())\n",
    "\n",
    "print(f\"according to manhattan distance, green point belongs to { 'blue' if man_dis_blue.sum() < man_dis_red.sum() else 'red'} category\")\n",
    "\n",
    "#-------------\n",
    "# Using size in centimeters\n",
    "#-------------\n",
    "blue_point = numpy.array([175, 70])\n",
    "red_point = numpy.array([160, 90])\n",
    "green_point = numpy.array([163, 78])\n",
    "\n",
    "## manhattan distance\n",
    "man_dis_blue = abs(numpy.subtract(blue_point, green_point))\n",
    "man_dis_red = abs(numpy.subtract(red_point, green_point))\n",
    "print(man_dis_blue.sum())\n",
    "print(man_dis_red.sum())\n",
    "\n",
    "print(f\"according to manhattan distance, green point belongs to { 'blue' if man_dis_blue.sum() < man_dis_red.sum() else 'red'} category\")"
   ]
  },
  {
   "cell_type": "code",
   "execution_count": 17,
   "metadata": {},
   "outputs": [],
   "source": [
    "def normalize(x, min , max):\n",
    "\treturn ((x - min) / (max - min))"
   ]
  },
  {
   "cell_type": "code",
   "execution_count": 18,
   "metadata": {},
   "outputs": [
    {
     "name": "stdout",
     "output_type": "stream",
     "text": [
      "[0.875 0.7  ] [0.8 0.9] [0.815 0.78 ]\n",
      "0.14000000000000012\n",
      "0.1349999999999999\n",
      "according to manhattan distance, green point belongs to red category\n"
     ]
    }
   ],
   "source": [
    "#-------------\n",
    "# Normalizing data\n",
    "#-------------\n",
    "\n",
    "blue_point = numpy.array([1.75, 70])\n",
    "red_point = numpy.array([1.60, 90])\n",
    "green_point = numpy.array([1.63, 78])\n",
    "\n",
    "maxSize = 2\n",
    "minSize = 0\n",
    "minWeight = 0\n",
    "maxWeight = 100\n",
    "blue_point_norm = numpy.array([normalize(blue_point[0], minSize, maxSize), normalize(blue_point[1], minWeight, maxWeight)])\n",
    "red_point_norm = numpy.array([normalize(red_point[0], minSize, maxSize), normalize(red_point[1], minWeight, maxWeight)])\n",
    "green_point_norm = numpy.array([normalize(green_point[0], minSize, maxSize), normalize(green_point[1], minWeight, maxWeight)])\n",
    "\n",
    "print(blue_point_norm, red_point_norm, green_point_norm)\n",
    "\n",
    "## compute distance\n",
    "man_dis_blue = abs(numpy.subtract(blue_point_norm, green_point_norm))\n",
    "man_dis_red = abs(numpy.subtract(red_point_norm, green_point_norm))\n",
    "print(man_dis_blue.sum())\n",
    "print(man_dis_red.sum())\n",
    "\n",
    "print(f\"according to manhattan distance, green point belongs to { 'blue' if man_dis_blue.sum() < man_dis_red.sum() else 'red'} category\")"
   ]
  },
  {
   "cell_type": "code",
   "execution_count": 19,
   "metadata": {},
   "outputs": [
    {
     "name": "stdout",
     "output_type": "stream",
     "text": [
      "[0.875 0.7  ] [0.8 0.9] [0.815 0.78 ]\n",
      "0.14000000000000012\n",
      "0.1349999999999999\n",
      "according to manhattan distance, green point belongs to red category\n"
     ]
    }
   ],
   "source": [
    "#-------------\n",
    "# Normalizing data\n",
    "#-------------\n",
    "\n",
    "blue_point = numpy.array([175, 70])\n",
    "red_point = numpy.array([160, 90])\n",
    "green_point = numpy.array([163, 78])\n",
    "\n",
    "maxSize = 200\n",
    "minSize = 0\n",
    "minWeight = 0\n",
    "maxWeight = 100\n",
    "blue_point_norm = numpy.array([normalize(blue_point[0], minSize, maxSize), normalize(blue_point[1], minWeight, maxWeight)])\n",
    "red_point_norm = numpy.array([normalize(red_point[0], minSize, maxSize), normalize(red_point[1], minWeight, maxWeight)])\n",
    "green_point_norm = numpy.array([normalize(green_point[0], minSize, maxSize), normalize(green_point[1], minWeight, maxWeight)])\n",
    "\n",
    "print(blue_point_norm, red_point_norm, green_point_norm)\n",
    "\n",
    "## compute distance\n",
    "man_dis_blue = abs(numpy.subtract(blue_point_norm, green_point_norm))\n",
    "man_dis_red = abs(numpy.subtract(red_point_norm, green_point_norm))\n",
    "print(man_dis_blue.sum())\n",
    "print(man_dis_red.sum())\n",
    "\n",
    "print(f\"according to manhattan distance, green point belongs to { 'blue' if man_dis_blue.sum() < man_dis_red.sum() else 'red'} category\")"
   ]
  }
 ],
 "metadata": {
  "kernelspec": {
   "display_name": "Python 3",
   "language": "python",
   "name": "python3"
  },
  "language_info": {
   "codemirror_mode": {
    "name": "ipython",
    "version": 3
   },
   "file_extension": ".py",
   "mimetype": "text/x-python",
   "name": "python",
   "nbconvert_exporter": "python",
   "pygments_lexer": "ipython3",
   "version": "3.13.0"
  }
 },
 "nbformat": 4,
 "nbformat_minor": 2
}
